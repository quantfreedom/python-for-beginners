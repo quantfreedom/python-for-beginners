{
 "cells": [
  {
   "cell_type": "code",
   "execution_count": 8,
   "metadata": {},
   "outputs": [
    {
     "data": {
      "text/plain": [
       "'I am False'"
      ]
     },
     "execution_count": 8,
     "metadata": {},
     "output_type": "execute_result"
    }
   ],
   "source": [
    "boolean = False\n",
    "if boolean:\n",
    "    msg = \"I am True\"\n",
    "else:\n",
    "    msg = \"I am False\"\n",
    "msg"
   ]
  },
  {
   "cell_type": "code",
   "execution_count": 13,
   "metadata": {},
   "outputs": [
    {
     "data": {
      "text/plain": [
       "'You are not born yet'"
      ]
     },
     "execution_count": 13,
     "metadata": {},
     "output_type": "execute_result"
    }
   ],
   "source": [
    "age = -6\n",
    "if age <= 0:\n",
    "    msg = \"You are not born yet\"\n",
    "elif age < 18:\n",
    "    msg = \"You can't vote or go to the military or drink\"\n",
    "elif age >= 18:\n",
    "    if age < 21:\n",
    "        msg = \"You can vote and die for your country, but can't drink\"\n",
    "    elif age < 45:\n",
    "        msg = \"You can vote, die for your country, and drink\"\n",
    "    else:\n",
    "        msg = \"You can vote, drink, but can't join the military anymore\"\n",
    "msg"
   ]
  },
  {
   "cell_type": "code",
   "execution_count": 19,
   "metadata": {},
   "outputs": [
    {
     "data": {
      "text/plain": [
       "\"You can't drink\""
      ]
     },
     "execution_count": 19,
     "metadata": {},
     "output_type": "execute_result"
    }
   ],
   "source": [
    "my_age = 20\n",
    "msg = \"You can drink\" if my_age >= 21 else \"You can't drink\"\n",
    "msg"
   ]
  },
  {
   "cell_type": "code",
   "execution_count": 21,
   "metadata": {},
   "outputs": [
    {
     "data": {
      "text/plain": [
       "''"
      ]
     },
     "execution_count": 21,
     "metadata": {},
     "output_type": "execute_result"
    }
   ],
   "source": [
    "your_age = 60\n",
    "msg = \"\"\n",
    "if 21 <= your_age < 45:\n",
    "    msg = \"You can vote, die for your country, and drink\"\n",
    "msg"
   ]
  }
 ],
 "metadata": {
  "kernelspec": {
   "display_name": "qfree_3_12_4",
   "language": "python",
   "name": "python3"
  },
  "language_info": {
   "codemirror_mode": {
    "name": "ipython",
    "version": 3
   },
   "file_extension": ".py",
   "mimetype": "text/x-python",
   "name": "python",
   "nbconvert_exporter": "python",
   "pygments_lexer": "ipython3",
   "version": "3.12.4"
  }
 },
 "nbformat": 4,
 "nbformat_minor": 2
}
