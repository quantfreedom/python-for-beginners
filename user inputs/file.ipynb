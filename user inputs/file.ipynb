{
 "cells": [
  {
   "cell_type": "code",
   "execution_count": 7,
   "metadata": {},
   "outputs": [
    {
     "name": "stdout",
     "output_type": "stream",
     "text": [
      "Hello, Neo! You are 654654 years old and you live in Mars.\n"
     ]
    }
   ],
   "source": [
    "name = input(\"What is your name? \")\n",
    "age = input(\"How old are you? \")\n",
    "city = input(\"Where do you live? \")\n",
    "if age.isdigit():\n",
    "    print(f\"Hello, {name}! You are {age} years old and you live in {city}.\")\n",
    "else:\n",
    "    print(\"You must use a number for your age.\")"
   ]
  }
 ],
 "metadata": {
  "kernelspec": {
   "display_name": "qfree_3_12_4",
   "language": "python",
   "name": "python3"
  },
  "language_info": {
   "codemirror_mode": {
    "name": "ipython",
    "version": 3
   },
   "file_extension": ".py",
   "mimetype": "text/x-python",
   "name": "python",
   "nbconvert_exporter": "python",
   "pygments_lexer": "ipython3",
   "version": "3.12.4"
  }
 },
 "nbformat": 4,
 "nbformat_minor": 2
}
